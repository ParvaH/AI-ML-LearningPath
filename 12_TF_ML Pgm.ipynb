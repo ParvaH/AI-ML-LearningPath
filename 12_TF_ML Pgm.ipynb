{
 "cells": [
  {
   "cell_type": "markdown",
   "metadata": {
    "id": "3wF5wszaj97Y"
   },
   "source": [
    "# TensorFlow - ML Program\n"
   ]
  },
  {
   "cell_type": "code",
   "execution_count": 9,
   "metadata": {},
   "outputs": [
    {
     "output_type": "stream",
     "name": "stdout",
     "text": [
      "[3 8]\nTensor(\"Mul:0\", shape=(2,), dtype=int32)\n"
     ]
    }
   ],
   "source": [
    "# Example 1\n",
    "with tf.compat.v1.Session() as ses:\n",
    "\n",
    "    #costants\n",
    "\n",
    "    a = tf.constant([1,2])\n",
    "    b = tf.constant([3,4])\n",
    "\n",
    "    #Multiply\n",
    "    result = tf.multiply(a,b)\n",
    "    # using session\n",
    "\n",
    "    print(sess.run(result))\n",
    "    print(result)"
   ]
  },
  {
   "cell_type": "markdown",
   "metadata": {
    "id": "04QgGZc9bF5D"
   },
   "source": [
    "### Ref: https://www.tensorflow.org/tutorials/quickstart/beginner\n",
    "This short introduction uses [Keras](https://www.tensorflow.org/guide/keras/overview) to:\n",
    "\n",
    "1. Build a neural network that classifies images.\n",
    "2. Train this neural network.\n",
    "3. And, finally, evaluate the accuracy of the model."
   ]
  },
  {
   "cell_type": "markdown",
   "metadata": {
    "id": "hiH7AC-NTniF"
   },
   "source": [
    "This is a [Google Colaboratory](https://colab.research.google.com/notebooks/welcome.ipynb) notebook file. Python programs are run directly in the browser—a great way to learn and use TensorFlow. To follow this tutorial, run the notebook in Google Colab by clicking the button at the top of this page.\n",
    "\n",
    "1. In Colab, connect to a Python runtime: At the top-right of the menu bar, select *CONNECT*.\n",
    "2. Run all the notebook code cells: Select *Runtime* > *Run all*."
   ]
  },
  {
   "cell_type": "markdown",
   "metadata": {
    "id": "nnrWf3PCEzXL"
   },
   "source": [
    "Download and install TensorFlow 2. Import TensorFlow into your program:\n",
    "\n",
    "Note: Upgrade `pip` to install the TensorFlow 2 package. See the [install guide](https://www.tensorflow.org/install) for details."
   ]
  },
  {
   "cell_type": "code",
   "execution_count": 2,
   "metadata": {
    "execution": {
     "iopub.execute_input": "2021-01-27T02:22:31.165375Z",
     "iopub.status.busy": "2021-01-27T02:22:31.164739Z",
     "iopub.status.idle": "2021-01-27T02:22:37.373933Z",
     "shell.execute_reply": "2021-01-27T02:22:37.373322Z"
    },
    "id": "0trJmd6DjqBZ"
   },
   "outputs": [],
   "source": [
    "import tensorflow as tf"
   ]
  },
  {
   "cell_type": "markdown",
   "metadata": {
    "id": "7NAbSZiaoJ4z"
   },
   "source": [
    "Load and prepare the [MNIST dataset](http://yann.lecun.com/exdb/mnist/). Convert the samples from integers to floating-point numbers:"
   ]
  },
  {
   "cell_type": "code",
   "execution_count": 3,
   "metadata": {
    "execution": {
     "iopub.execute_input": "2021-01-27T02:22:37.379364Z",
     "iopub.status.busy": "2021-01-27T02:22:37.378426Z",
     "iopub.status.idle": "2021-01-27T02:22:37.838749Z",
     "shell.execute_reply": "2021-01-27T02:22:37.838096Z"
    },
    "id": "7FP5258xjs-v"
   },
   "outputs": [],
   "source": [
    "mnist = tf.keras.datasets.mnist\n",
    "\n",
    "(x_train, y_train), (x_test, y_test) = mnist.load_data()\n",
    "x_train, x_test = x_train / 255.0, x_test / 255.0"
   ]
  },
  {
   "cell_type": "markdown",
   "metadata": {
    "id": "BPZ68wASog_I"
   },
   "source": [
    "Build the `tf.keras.Sequential` model by stacking layers. Choose an optimizer and loss function for training:"
   ]
  },
  {
   "cell_type": "code",
   "execution_count": 4,
   "metadata": {
    "execution": {
     "iopub.execute_input": "2021-01-27T02:22:37.844781Z",
     "iopub.status.busy": "2021-01-27T02:22:37.843714Z",
     "iopub.status.idle": "2021-01-27T02:22:46.880604Z",
     "shell.execute_reply": "2021-01-27T02:22:46.881017Z"
    },
    "id": "h3IKyzTCDNGo"
   },
   "outputs": [],
   "source": [
    "model = tf.keras.models.Sequential([\n",
    "  tf.keras.layers.Flatten(input_shape=(28, 28)),\n",
    "  tf.keras.layers.Dense(128, activation='relu'),\n",
    "  tf.keras.layers.Dropout(0.2),\n",
    "  tf.keras.layers.Dense(10)\n",
    "])"
   ]
  },
  {
   "cell_type": "markdown",
   "metadata": {
    "id": "l2hiez2eIUz8"
   },
   "source": [
    "For each example the model returns a vector of \"[logits](https://developers.google.com/machine-learning/glossary#logits)\" or \"[log-odds](https://developers.google.com/machine-learning/glossary#log-odds)\" scores, one for each class."
   ]
  },
  {
   "cell_type": "code",
   "execution_count": 5,
   "metadata": {
    "execution": {
     "iopub.execute_input": "2021-01-27T02:22:46.889938Z",
     "iopub.status.busy": "2021-01-27T02:22:46.888924Z",
     "iopub.status.idle": "2021-01-27T02:22:47.311748Z",
     "shell.execute_reply": "2021-01-27T02:22:47.312324Z"
    },
    "id": "OeOrNdnkEEcR"
   },
   "outputs": [
    {
     "output_type": "execute_result",
     "data": {
      "text/plain": [
       "array([[ 0.24475823, -0.19890061, -0.67481005, -0.21958145,  0.11489888,\n",
       "        -0.43428394, -0.24984872, -0.5682292 ,  0.5775861 , -0.26433676]],\n",
       "      dtype=float32)"
      ]
     },
     "metadata": {},
     "execution_count": 5
    }
   ],
   "source": [
    "predictions = model(x_train[:1]).numpy()\n",
    "predictions"
   ]
  },
  {
   "cell_type": "markdown",
   "metadata": {
    "id": "tgjhDQGcIniO"
   },
   "source": [
    "The `tf.nn.softmax` function converts these logits to \"probabilities\" for each class: "
   ]
  },
  {
   "cell_type": "code",
   "execution_count": 6,
   "metadata": {
    "execution": {
     "iopub.execute_input": "2021-01-27T02:22:47.317672Z",
     "iopub.status.busy": "2021-01-27T02:22:47.316571Z",
     "iopub.status.idle": "2021-01-27T02:22:47.320613Z",
     "shell.execute_reply": "2021-01-27T02:22:47.321064Z"
    },
    "id": "zWSRnQ0WI5eq"
   },
   "outputs": [
    {
     "output_type": "execute_result",
     "data": {
      "text/plain": [
       "array([[0.14077498, 0.0903331 , 0.05612574, 0.08848412, 0.12363127,\n",
       "        0.07138734, 0.08584607, 0.06243807, 0.19636804, 0.0846113 ]],\n",
       "      dtype=float32)"
      ]
     },
     "metadata": {},
     "execution_count": 6
    }
   ],
   "source": [
    "tf.nn.softmax(predictions).numpy()"
   ]
  },
  {
   "cell_type": "markdown",
   "metadata": {
    "id": "he5u_okAYS4a"
   },
   "source": [
    "Note: It is possible to bake this `tf.nn.softmax` in as the activation function for the last layer of the network. While this can make the model output more directly interpretable, this approach is discouraged as it's impossible to\n",
    "provide an exact and numerically stable loss calculation for all models when using a softmax output. "
   ]
  },
  {
   "cell_type": "markdown",
   "metadata": {
    "id": "hQyugpgRIyrA"
   },
   "source": [
    "The `losses.SparseCategoricalCrossentropy` loss takes a vector of logits and a `True` index and returns a scalar loss for each example."
   ]
  },
  {
   "cell_type": "code",
   "execution_count": 7,
   "metadata": {
    "execution": {
     "iopub.execute_input": "2021-01-27T02:22:47.326443Z",
     "iopub.status.busy": "2021-01-27T02:22:47.325323Z",
     "iopub.status.idle": "2021-01-27T02:22:47.328155Z",
     "shell.execute_reply": "2021-01-27T02:22:47.327614Z"
    },
    "id": "RSkzdv8MD0tT"
   },
   "outputs": [],
   "source": [
    "loss_fn = tf.keras.losses.SparseCategoricalCrossentropy(from_logits=True)"
   ]
  },
  {
   "cell_type": "markdown",
   "metadata": {
    "id": "SfR4MsSDU880"
   },
   "source": [
    "This loss is equal to the negative log probability of the true class:\n",
    "It is zero if the model is sure of the correct class.\n",
    "\n",
    "This untrained model gives probabilities close to random (1/10 for each class), so the initial loss should be close to `-tf.math.log(1/10) ~= 2.3`."
   ]
  },
  {
   "cell_type": "code",
   "execution_count": 8,
   "metadata": {
    "execution": {
     "iopub.execute_input": "2021-01-27T02:22:47.334018Z",
     "iopub.status.busy": "2021-01-27T02:22:47.332880Z",
     "iopub.status.idle": "2021-01-27T02:22:47.339363Z",
     "shell.execute_reply": "2021-01-27T02:22:47.339843Z"
    },
    "id": "NJWqEVrrJ7ZB"
   },
   "outputs": [
    {
     "output_type": "execute_result",
     "data": {
      "text/plain": [
       "2.6396346"
      ]
     },
     "metadata": {},
     "execution_count": 8
    }
   ],
   "source": [
    "loss_fn(y_train[:1], predictions).numpy()"
   ]
  },
  {
   "cell_type": "code",
   "execution_count": 9,
   "metadata": {
    "execution": {
     "iopub.execute_input": "2021-01-27T02:22:47.349430Z",
     "iopub.status.busy": "2021-01-27T02:22:47.348502Z",
     "iopub.status.idle": "2021-01-27T02:22:47.364666Z",
     "shell.execute_reply": "2021-01-27T02:22:47.364157Z"
    },
    "id": "9foNKHzTD2Vo"
   },
   "outputs": [],
   "source": [
    "model.compile(optimizer='adam',\n",
    "              loss=loss_fn,\n",
    "              metrics=['accuracy'])"
   ]
  },
  {
   "cell_type": "markdown",
   "metadata": {
    "id": "ix4mEL65on-w"
   },
   "source": [
    "The `Model.fit` method adjusts the model parameters to minimize the loss: "
   ]
  },
  {
   "cell_type": "code",
   "execution_count": 10,
   "metadata": {
    "execution": {
     "iopub.execute_input": "2021-01-27T02:22:47.369888Z",
     "iopub.status.busy": "2021-01-27T02:22:47.368635Z",
     "iopub.status.idle": "2021-01-27T02:23:02.490451Z",
     "shell.execute_reply": "2021-01-27T02:23:02.490856Z"
    },
    "id": "y7suUbJXVLqP"
   },
   "outputs": [
    {
     "output_type": "stream",
     "name": "stdout",
     "text": [
      "Epoch 1/5\n",
      "1875/1875 [==============================] - 4s 2ms/step - loss: 0.4825 - accuracy: 0.8610\n",
      "Epoch 2/5\n",
      "1875/1875 [==============================] - 3s 2ms/step - loss: 0.1532 - accuracy: 0.9547\n",
      "Epoch 3/5\n",
      "1875/1875 [==============================] - 3s 1ms/step - loss: 0.1104 - accuracy: 0.9654\n",
      "Epoch 4/5\n",
      "1875/1875 [==============================] - 3s 1ms/step - loss: 0.0846 - accuracy: 0.9734\n",
      "Epoch 5/5\n",
      "1875/1875 [==============================] - 3s 1ms/step - loss: 0.0774 - accuracy: 0.9758\n"
     ]
    },
    {
     "output_type": "execute_result",
     "data": {
      "text/plain": [
       "<tensorflow.python.keras.callbacks.History at 0x23bf1448470>"
      ]
     },
     "metadata": {},
     "execution_count": 10
    }
   ],
   "source": [
    "model.fit(x_train, y_train, epochs=5)"
   ]
  },
  {
   "cell_type": "markdown",
   "metadata": {
    "id": "4mDAAPFqVVgn"
   },
   "source": [
    "The `Model.evaluate` method checks the models performance, usually on a \"[Validation-set](https://developers.google.com/machine-learning/glossary#validation-set)\" or \"[Test-set](https://developers.google.com/machine-learning/glossary#test-set)\"."
   ]
  },
  {
   "cell_type": "code",
   "execution_count": 11,
   "metadata": {
    "execution": {
     "iopub.execute_input": "2021-01-27T02:23:02.496255Z",
     "iopub.status.busy": "2021-01-27T02:23:02.495021Z",
     "iopub.status.idle": "2021-01-27T02:23:03.037377Z",
     "shell.execute_reply": "2021-01-27T02:23:03.036860Z"
    },
    "id": "F7dTAzgHDUh7"
   },
   "outputs": [
    {
     "output_type": "stream",
     "name": "stdout",
     "text": [
      "313/313 - 0s - loss: 0.0737 - accuracy: 0.9772\n"
     ]
    },
    {
     "output_type": "execute_result",
     "data": {
      "text/plain": [
       "[0.07369285076856613, 0.9771999716758728]"
      ]
     },
     "metadata": {},
     "execution_count": 11
    }
   ],
   "source": [
    "model.evaluate(x_test,  y_test, verbose=2)"
   ]
  },
  {
   "cell_type": "markdown",
   "metadata": {
    "id": "T4JfEh7kvx6m"
   },
   "source": [
    "The image classifier is now trained to ~98% accuracy on this dataset. To learn more, read the [TensorFlow tutorials](https://www.tensorflow.org/tutorials/)."
   ]
  },
  {
   "cell_type": "markdown",
   "metadata": {
    "id": "Aj8NrlzlJqDG"
   },
   "source": [
    "If you want your model to return a probability, you can wrap the trained model, and attach the softmax to it:"
   ]
  },
  {
   "cell_type": "code",
   "execution_count": 12,
   "metadata": {
    "execution": {
     "iopub.execute_input": "2021-01-27T02:23:03.044680Z",
     "iopub.status.busy": "2021-01-27T02:23:03.044017Z",
     "iopub.status.idle": "2021-01-27T02:23:03.062428Z",
     "shell.execute_reply": "2021-01-27T02:23:03.061917Z"
    },
    "id": "rYb6DrEH0GMv"
   },
   "outputs": [],
   "source": [
    "probability_model = tf.keras.Sequential([\n",
    "  model,\n",
    "  tf.keras.layers.Softmax()\n",
    "])"
   ]
  },
  {
   "cell_type": "code",
   "execution_count": 13,
   "metadata": {
    "execution": {
     "iopub.execute_input": "2021-01-27T02:23:03.067513Z",
     "iopub.status.busy": "2021-01-27T02:23:03.066434Z",
     "iopub.status.idle": "2021-01-27T02:23:03.072553Z",
     "shell.execute_reply": "2021-01-27T02:23:03.073021Z"
    },
    "id": "cnqOZtUp1YR_"
   },
   "outputs": [
    {
     "output_type": "execute_result",
     "data": {
      "text/plain": [
       "<tf.Tensor: shape=(5, 10), dtype=float32, numpy=\n",
       "array([[2.11548183e-07, 4.97467179e-09, 3.50532150e-06, 7.28782325e-05,\n",
       "        4.97650489e-12, 2.75390363e-07, 1.10802765e-13, 9.99921322e-01,\n",
       "        1.07561128e-07, 1.65880124e-06],\n",
       "       [2.71735789e-09, 1.33377049e-04, 9.99861121e-01, 5.41055533e-06,\n",
       "        5.99575501e-16, 1.74293291e-07, 2.86014128e-08, 2.38284029e-13,\n",
       "        4.55673934e-08, 1.97764101e-14],\n",
       "       [8.58958948e-09, 9.99482214e-01, 4.87843172e-05, 2.25714757e-06,\n",
       "        1.00361598e-04, 5.95439678e-06, 3.78748769e-06, 3.07752081e-04,\n",
       "        4.57943315e-05, 3.24935058e-06],\n",
       "       [9.99921322e-01, 1.34286859e-09, 1.42423751e-05, 2.96841787e-08,\n",
       "        2.97537301e-08, 2.67447854e-06, 3.64606494e-05, 6.92822323e-06,\n",
       "        2.45295695e-08, 1.84794208e-05],\n",
       "       [2.76027276e-05, 1.01314046e-09, 9.64628725e-07, 1.08510001e-08,\n",
       "        9.94548261e-01, 5.64389886e-08, 9.48100194e-08, 3.32594645e-04,\n",
       "        2.45312748e-07, 5.09021711e-03]], dtype=float32)>"
      ]
     },
     "metadata": {},
     "execution_count": 13
    }
   ],
   "source": [
    "probability_model(x_test[:5])"
   ]
  }
 ],
 "metadata": {
  "colab": {
   "collapsed_sections": [
    "rX8mhOLljYeM"
   ],
   "name": "beginner.ipynb",
   "toc_visible": true
  },
  "kernelspec": {
   "display_name": "Python 3",
   "name": "python3",
   "language": "python"
  },
  "language_info": {
   "codemirror_mode": {
    "name": "ipython",
    "version": 3
   },
   "file_extension": ".py",
   "mimetype": "text/x-python",
   "name": "python",
   "nbconvert_exporter": "python",
   "pygments_lexer": "ipython3",
   "version": "3.7.0-final"
  }
 },
 "nbformat": 4,
 "nbformat_minor": 0
}