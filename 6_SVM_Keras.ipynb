{
 "metadata": {
  "language_info": {
   "codemirror_mode": {
    "name": "ipython",
    "version": 3
   },
   "file_extension": ".py",
   "mimetype": "text/x-python",
   "name": "python",
   "nbconvert_exporter": "python",
   "pygments_lexer": "ipython3",
   "version": "3.7.0-final"
  },
  "orig_nbformat": 2,
  "kernelspec": {
   "name": "python3",
   "display_name": "Python 3",
   "language": "python"
  }
 },
 "nbformat": 4,
 "nbformat_minor": 2,
 "cells": [
  {
   "source": [
    "# Support Vector Machines - Using Keras\n",
    "### Ref: https://colab.research.google.com/github/keras-team/keras-io/blob/master/examples/keras_recipes/ipynb/quasi_svm.ipynb#scrollTo=-XwmXKP5TXFn\n",
    "         "
   ],
   "cell_type": "markdown",
   "metadata": {}
  },
  {
   "source": [
    "# import libraries\n",
    "\n",
    "from tensorflow import keras\n",
    "from tensorflow.keras import layers\n",
    "from tensorflow.keras.layers.experimental import RandomFourierFeatures"
   ],
   "cell_type": "code",
   "metadata": {},
   "execution_count": 61,
   "outputs": []
  },
  {
   "cell_type": "code",
   "execution_count": 62,
   "metadata": {},
   "outputs": [],
   "source": [
    "## Build the model\n",
    "model = keras.Sequential(\n",
    "    [\n",
    "        keras.Input(shape=(784,)),\n",
    "        RandomFourierFeatures(\n",
    "            output_dim=4096, scale=10.0, kernel_initializer=\"gaussian\"\n",
    "        ),\n",
    "        layers.Dense(units=10),\n",
    "    ]\n",
    ")\n",
    "model.compile(\n",
    "    optimizer=keras.optimizers.Adam(learning_rate=1e-3),\n",
    "    loss=keras.losses.hinge,\n",
    "    metrics=[keras.metrics.CategoricalAccuracy(name=\"acc\")],\n",
    ")\n"
   ]
  },
  {
   "source": [
    "# Prepare the data\n",
    "### Note: Find a way to load csv data to keras"
   ],
   "cell_type": "markdown",
   "metadata": {}
  },
  {
   "cell_type": "code",
   "execution_count": 63,
   "metadata": {},
   "outputs": [
    {
     "output_type": "stream",
     "name": "stdout",
     "text": [
      "Downloading data from https://storage.googleapis.com/tensorflow/tf-keras-datasets/mnist.npz\n",
      "11493376/11490434 [==============================] - 2s 0us/step\n"
     ]
    }
   ],
   "source": [
    "#Prepare the data\n",
    "\n",
    "\n",
    "# Load MNIST\n",
    "(x_train, y_train), (x_test, y_test) = keras.datasets.mnist.load_data()\n",
    "\n",
    "# Preprocess the data by flattening & scaling it\n",
    "x_train = x_train.reshape(-1, 784).astype(\"float32\") / 255\n",
    "x_test = x_test.reshape(-1, 784).astype(\"float32\") / 255\n",
    "\n",
    "# Categorical (one hot) encoding of the labels\n",
    "y_train = keras.utils.to_categorical(y_train)\n",
    "y_test = keras.utils.to_categorical(y_test)"
   ]
  },
  {
   "source": [
    "## Train the model"
   ],
   "cell_type": "markdown",
   "metadata": {}
  },
  {
   "cell_type": "code",
   "execution_count": 64,
   "metadata": {},
   "outputs": [
    {
     "output_type": "stream",
     "name": "stdout",
     "text": [
      "Epoch 1/20\n",
      "375/375 [==============================] - 11s 23ms/step - loss: 0.1414 - acc: 0.7737 - val_loss: 0.0451 - val_acc: 0.9337\n",
      "Epoch 2/20\n",
      "375/375 [==============================] - 8s 22ms/step - loss: 0.0453 - acc: 0.9319 - val_loss: 0.0392 - val_acc: 0.9418\n",
      "Epoch 3/20\n",
      "375/375 [==============================] - 9s 23ms/step - loss: 0.0342 - acc: 0.9497 - val_loss: 0.0329 - val_acc: 0.9516\n",
      "Epoch 4/20\n",
      "375/375 [==============================] - 8s 21ms/step - loss: 0.0290 - acc: 0.9588 - val_loss: 0.0310 - val_acc: 0.9577\n",
      "Epoch 5/20\n",
      "375/375 [==============================] - 8s 22ms/step - loss: 0.0262 - acc: 0.9628 - val_loss: 0.0276 - val_acc: 0.9603\n",
      "Epoch 6/20\n",
      "375/375 [==============================] - 8s 21ms/step - loss: 0.0239 - acc: 0.9667 - val_loss: 0.0261 - val_acc: 0.9642\n",
      "Epoch 7/20\n",
      "375/375 [==============================] - 9s 23ms/step - loss: 0.0213 - acc: 0.9710 - val_loss: 0.0253 - val_acc: 0.9630\n",
      "Epoch 8/20\n",
      "375/375 [==============================] - 9s 24ms/step - loss: 0.0199 - acc: 0.9732 - val_loss: 0.0261 - val_acc: 0.9633\n",
      "Epoch 9/20\n",
      "375/375 [==============================] - 8s 21ms/step - loss: 0.0192 - acc: 0.9743 - val_loss: 0.0235 - val_acc: 0.9666\n",
      "Epoch 10/20\n",
      "375/375 [==============================] - 9s 23ms/step - loss: 0.0169 - acc: 0.9775 - val_loss: 0.0245 - val_acc: 0.9653\n",
      "Epoch 11/20\n",
      "375/375 [==============================] - 9s 23ms/step - loss: 0.0160 - acc: 0.9797 - val_loss: 0.0229 - val_acc: 0.9673\n",
      "Epoch 12/20\n",
      "375/375 [==============================] - 9s 23ms/step - loss: 0.0158 - acc: 0.9804 - val_loss: 0.0245 - val_acc: 0.9628\n",
      "Epoch 13/20\n",
      "375/375 [==============================] - 8s 22ms/step - loss: 0.0153 - acc: 0.9809 - val_loss: 0.0242 - val_acc: 0.9650\n",
      "Epoch 14/20\n",
      "375/375 [==============================] - 9s 23ms/step - loss: 0.0146 - acc: 0.9816 - val_loss: 0.0242 - val_acc: 0.9673\n",
      "Epoch 15/20\n",
      "375/375 [==============================] - 9s 23ms/step - loss: 0.0132 - acc: 0.9847 - val_loss: 0.0245 - val_acc: 0.9643\n",
      "Epoch 16/20\n",
      "375/375 [==============================] - 8s 23ms/step - loss: 0.0127 - acc: 0.9850 - val_loss: 0.0221 - val_acc: 0.9710\n",
      "Epoch 17/20\n",
      "375/375 [==============================] - 8s 22ms/step - loss: 0.0125 - acc: 0.9853 - val_loss: 0.0231 - val_acc: 0.9682\n",
      "Epoch 18/20\n",
      "375/375 [==============================] - 8s 22ms/step - loss: 0.0118 - acc: 0.9860 - val_loss: 0.0213 - val_acc: 0.9718\n",
      "Epoch 19/20\n",
      "375/375 [==============================] - 8s 23ms/step - loss: 0.0111 - acc: 0.9875 - val_loss: 0.0222 - val_acc: 0.9714\n",
      "Epoch 20/20\n",
      "375/375 [==============================] - 8s 22ms/step - loss: 0.0112 - acc: 0.9871 - val_loss: 0.0215 - val_acc: 0.9703\n"
     ]
    },
    {
     "output_type": "execute_result",
     "data": {
      "text/plain": [
       "<tensorflow.python.keras.callbacks.History at 0x13c8cc0bb70>"
      ]
     },
     "metadata": {},
     "execution_count": 64
    }
   ],
   "source": [
    "\n",
    "model.fit(x_train, y_train, epochs=20, batch_size=128, validation_split=0.2)"
   ]
  },
  {
   "cell_type": "code",
   "execution_count": 67,
   "metadata": {},
   "outputs": [
    {
     "output_type": "stream",
     "name": "stdout",
     "text": [
      "Evaluate on test data\n",
      "79/79 [==============================] - 1s 18ms/step - loss: 0.0198 - acc: 0.9731\n",
      "test loss, test acc: [0.019807854667305946, 0.9731000065803528]\n",
      "Generate predictions for 3 samples\n",
      "predictions shape: (3, 10)\n"
     ]
    }
   ],
   "source": [
    "#Model testing and evaluation\n",
    "# Evaluate the model on the test data using `evaluate`\n",
    "print(\"Evaluate on test data\")\n",
    "results = model.evaluate(x_test, y_test, batch_size=128)\n",
    "print(\"test loss, test acc:\", results)\n",
    "\n",
    "# Generate predictions (probabilities -- the output of the last layer)\n",
    "# on new data using `predict`\n",
    "print(\"Generate predictions for 3 samples\")\n",
    "predictions = model.predict(x_test[:3])\n",
    "print(\"predictions shape:\", predictions.shape)"
   ]
  }
 ]
}
